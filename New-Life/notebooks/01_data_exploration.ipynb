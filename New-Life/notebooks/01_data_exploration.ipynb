{
  "cells": [
    {
      "cell_type": "markdown",
      "metadata": {},
      "source": [
        "# Data Exploration: Sleep Health & Life Expectancy Datasets\n",
        "\n",
        "This notebook explores the two core datasets for our Sleep Health & Life Expectancy Risk Coach application:\n",
        "1. **Sleep Health & Lifestyle Dataset** (synthetic, individual-level)\n",
        "2. **WHO Life Expectancy Data** (real, population-level)\n"
      ]
    },
    {
      "cell_type": "code",
      "execution_count": null,
      "metadata": {},
      "outputs": [],
      "source": [
        "import pandas as pd\n",
        "import numpy as np\n",
        "import matplotlib.pyplot as plt\n",
        "import seaborn as sns\n",
        "from pathlib import Path\n",
        "\n",
        "# Set up plotting style\n",
        "plt.style.use('default')\n",
        "sns.set_palette(\"husl\")\n",
        "\n",
        "# Data paths\n",
        "data_dir = Path('../data/raw')\n",
        "sleep_data_path = data_dir / 'Sleep_health_and_lifestyle_dataset.csv'\n",
        "life_expectancy_path = data_dir / 'Life Expectancy Data.csv'\n"
      ]
    },
    {
      "cell_type": "markdown",
      "metadata": {},
      "source": [
        "## 1. Sleep Health & Lifestyle Dataset (Synthetic)\n"
      ]
    },
    {
      "cell_type": "code",
      "execution_count": null,
      "metadata": {},
      "outputs": [],
      "source": [
        "# Load sleep dataset\n",
        "sleep_df = pd.read_csv(sleep_data_path)\n",
        "\n",
        "print(\"Sleep Health Dataset Shape:\", sleep_df.shape)\n",
        "print(\"\\nColumn Names:\")\n",
        "print(sleep_df.columns.tolist())\n",
        "print(\"\\nFirst 5 rows:\")\n",
        "print(sleep_df.head())\n",
        "print(\"\\nDataset Info:\")\n",
        "sleep_df.info()\n",
        "print(\"\\nMissing values:\")\n",
        "print(sleep_df.isnull().sum())\n",
        "print(\"\\nTarget variable distribution:\")\n",
        "print(sleep_df['Sleep Disorder'].value_counts())\n"
      ]
    },
    {
      "cell_type": "markdown",
      "metadata": {},
      "source": [
        "## 2. WHO Life Expectancy Dataset (Real)\n"
      ]
    },
    {
      "cell_type": "code",
      "execution_count": null,
      "metadata": {},
      "outputs": [],
      "source": [
        "# Load life expectancy dataset\n",
        "life_df = pd.read_csv(life_expectancy_path)\n",
        "\n",
        "print(\"Life Expectancy Dataset Shape:\", life_df.shape)\n",
        "print(\"\\nColumn Names:\")\n",
        "print(life_df.columns.tolist())\n",
        "print(\"\\nFirst 5 rows:\")\n",
        "print(life_df.head())\n",
        "print(\"\\nDataset Info:\")\n",
        "life_df.info()\n",
        "print(\"\\nMissing values:\")\n",
        "missing_vals = life_df.isnull().sum()\n",
        "print(missing_vals[missing_vals > 0])\n",
        "print(\"\\nYear range:\", life_df['Year'].min(), \"to\", life_df['Year'].max())\n",
        "print(\"Number of countries:\", life_df['Country'].nunique())\n",
        "print(\"\\nDevelopment Status Distribution:\")\n",
        "print(life_df['Status'].value_counts())\n"
      ]
    }
  ],
  "metadata": {
    "language_info": {
      "name": "python"
    }
  },
  "nbformat": 4,
  "nbformat_minor": 2
}
